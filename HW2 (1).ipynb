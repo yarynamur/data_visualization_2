{
 "cells": [
  {
   "cell_type": "code",
   "execution_count": null,
   "id": "9c688ddc",
   "metadata": {},
   "outputs": [],
   "source": [
    "import altair as alt\n",
    "import pandas as pd\n",
    "from datetime import datetime\n",
    "import openpyxl"
   ]
  },
  {
   "cell_type": "code",
   "execution_count": null,
   "id": "c57584b0",
   "metadata": {},
   "outputs": [],
   "source": [
    "pip install openpyxl"
   ]
  },
  {
   "cell_type": "code",
   "execution_count": null,
   "id": "70236884",
   "metadata": {},
   "outputs": [],
   "source": [
    "df=pd.read_excel('2014-2020.xlsx', engine='openpyxl',usecols=range(0,12))\n",
    "df"
   ]
  },
  {
   "cell_type": "code",
   "execution_count": null,
   "id": "7e55594c",
   "metadata": {},
   "outputs": [],
   "source": [
    "df['Year']=df['Час/Дата'].str[-4:]\n",
    "df['Month']=df['Час/Дата'].str[-7:-5]\n",
    "df['Day']=df['Час/Дата'].str.split('-',expand=True)[1].str[:2]\n",
    "df['Time']=df['Час/Дата'].str.split('-',expand=True)[0]\n",
    "df['date'] = df['Час/Дата'].apply(lambda x: datetime.strptime( x.split('-', 1)[1],'%d.%m.%Y'))\n",
    "df['week day'] =pd.DatetimeIndex(df['date']).day_name()\n",
    "df['day of the year'] =pd.DatetimeIndex(df['date']).strftime('%j')\n",
    "df['season']=None\n",
    "for index,row in df.iterrows():\n",
    "    if row['Month'] in ['03', '04','05']:\n",
    "        df['season'][index]='Spring'\n",
    "    if row['Month'] in ['01', '02','12']:\n",
    "        df['season'][index]='Winter'\n",
    "    if row['Month'] in ['06', '07','08']:\n",
    "        df['season'][index]='Summer'\n",
    "    if row['Month'] in ['09', '10','11']:\n",
    "        df['season'][index]='Fall'\n",
    "df"
   ]
  },
  {
   "cell_type": "code",
   "execution_count": null,
   "id": "97187a7b",
   "metadata": {},
   "outputs": [],
   "source": [
    "aes = df[['Time','Day', 'Year', 'date', 'AES']]\n",
    "aes.columns = ['Time','Day', 'Year', 'date', 'energy']\n",
    "aes.loc[:, 'category'] = 'AES'\n",
    "\n",
    "tec = df[['Time','Day', 'Year', 'date', 'TEC']]\n",
    "tec.columns = ['Time','Day', 'Year','date', 'energy']\n",
    "tec.loc[:, 'category'] = 'TEC'\n",
    "\n",
    "vde = df[['Time','Day', 'Year','date', 'VDE']]\n",
    "vde.columns = ['Time','Day', 'Year', 'date', 'energy']\n",
    "vde.loc[:, 'category'] = 'VDE'\n",
    "\n",
    "tes = df[['Time','Day', 'Year', 'date', 'TES']]\n",
    "tes.columns = ['Time','Day', 'Year', 'date', 'energy']\n",
    "tes.loc[:, 'category'] = 'TES'\n",
    "\n",
    "ges = df[['Time','Day', 'Year', 'date', 'GES']]\n",
    "ges.columns = ['Time', 'Day', 'Year','date', 'energy']\n",
    "ges.loc[:, 'category'] = 'GES'\n",
    "\n",
    "gaes = df[['Time','Day', 'Year', 'date', 'GAES_GEN']]\n",
    "gaes.columns = ['Time','Day', 'Year', 'date', 'energy']\n",
    "gaes.loc[:, 'category'] = 'GAES'\n",
    "\n",
    "df_long = pd.concat([aes, tec, vde, tes, ges, gaes])"
   ]
  },
  {
   "cell_type": "code",
   "execution_count": null,
   "id": "bf9ba848",
   "metadata": {},
   "outputs": [],
   "source": [
    "alt.data_transformers.disable_max_rows()"
   ]
  },
  {
   "cell_type": "markdown",
   "id": "9a0b2eab",
   "metadata": {},
   "source": [
    "- Як змінювалась структура генерації електроенергії за роками?\n",
    "\n",
    "Альтернативними варіантами у цьому випадку міг би бути bar chart. Проте мені здається що така структура була би більш громіздкою. Я вирішила використати area chart, щоб показати частку в цілому кожного джерела електроенергії а заодно зобразити зміну споживання енергії історично. "
   ]
  },
  {
   "cell_type": "code",
   "execution_count": null,
   "id": "d436386c",
   "metadata": {},
   "outputs": [],
   "source": [
    "alt.Chart(df_long).transform_filter(alt.FieldRangePredicate(field='Year', range=[2014, 2020])).mark_area().encode(\n",
    "    x = alt.X('Year:N', \n",
    "             scale = alt.Scale(\n",
    "                  zero = False)),\n",
    "    y = alt.Y('energy:Q', aggregate = 'sum'),\n",
    "    color = alt.Color('category:N'),\n",
    "    order = alt.Order('energy:Q', aggregate='sum', sort = 'ascending')\n",
    ").properties(width = 950, height = 500, background = '#F9F9F9', padding = 25)"
   ]
  },
  {
   "cell_type": "markdown",
   "id": "adc21dc1",
   "metadata": {},
   "source": [
    "- Як залежить споживання електроенергії від дня року та години доби?\n",
    "\n",
    "У цьому випадку я вирішила використати хітмап, щоб передати патерн використання електроенергії в залежності від двох заданих змінних. Також я застосувала спектральну кольорову схему, щоб краще передати різницю між низьким та високим використанням енергії. Недоліко у цьому графіку може бути власне спектральна схема, оскільки вона може на початку дезорієнтувати глядача."
   ]
  },
  {
   "cell_type": "code",
   "execution_count": null,
   "id": "16d6a596",
   "metadata": {},
   "outputs": [],
   "source": [
    "alt.Chart(df).mark_rect().encode(\n",
    "    x = alt.X('day of the year:N'),\n",
    "    y = alt.Y('Time:N', sort =  alt.Sort(field = 'Time', op = 'count', order = 'ascending')),\n",
    "    color = alt.Color('CONSUMPTION:Q',scale = alt.Scale(scheme = 'spectral'))\n",
    ").properties(background = '#F9F9F9', padding = 25)"
   ]
  },
  {
   "cell_type": "markdown",
   "id": "88db71fa",
   "metadata": {},
   "source": [
    "- Як змінюється генерація електроенергії з різних джерел впродовж доби?\n",
    "\n",
    "У цьому випадку я вирішила використати нормалізований area chart,щоб показати яку частку від цілого займає кожне джерело енергій впродовж доби. Також тут можна було б використати bar chart. Недоліком у цьому випадку може бути те, що AES та GAES міняють позиції, що виглядає не зовсім естетично"
   ]
  },
  {
   "cell_type": "code",
   "execution_count": null,
   "id": "84032585",
   "metadata": {},
   "outputs": [],
   "source": [
    "select_emissions = alt.selection_single(on = 'mouseover', fields=['category'], empty = 'all')\n",
    "alt.Chart(df_long).transform_filter(alt.FieldRangePredicate(field='Time', range=[1, 24])).mark_area().encode(\n",
    "    x = alt.X('Time:N', \n",
    "             scale = alt.Scale(\n",
    "                  zero = False)),\n",
    "    y = alt.Y('energy:Q', aggregate = 'sum', stack = 'normalize'),\n",
    "    color = alt.Color('category:N'),\n",
    "    opacity = alt.condition(\n",
    "        select_emissions,\n",
    "        alt.value(0.8),\n",
    "        alt.value(0.3)\n",
    "    ),\n",
    "    order = alt.Order('energy:Q', aggregate='sum', sort = 'ascending')\n",
    ").add_selection(select_emissions).properties(width = 950, height = 500, background = '#F9F9F9', padding = 25)"
   ]
  },
  {
   "cell_type": "markdown",
   "id": "700bd243",
   "metadata": {},
   "source": [
    "- Як змінюється споживання електроенергії впродовж доби у розрізі місяців року та пір року?\n",
    "\n",
    "У цьому видаку я використала чотири хітмапи щоб зобразити різні пори року, а також передати залежність між місяцем та годиною доби. Альтернативою у цьому випадку міг би стати bar chart"
   ]
  },
  {
   "cell_type": "code",
   "execution_count": null,
   "id": "f83d56a7",
   "metadata": {},
   "outputs": [],
   "source": [
    "winter = alt.Chart(df[df['season'] == 'Winter']).mark_rect().encode(\n",
    "    x = alt.X('Time:N', sort =  alt.Sort(field = 'Time', op = 'count', order = 'ascending')),\n",
    "    y = alt.Y('Month:N'),\n",
    "    color = alt.Color('CONSUMPTION:Q')\n",
    ")\n",
    "\n",
    "spring = alt.Chart(df[df['season'] == 'Spring']).mark_rect().encode(\n",
    "    x = alt.X('Time:N', sort =  alt.Sort(field = 'Time', op = 'count', order = 'ascending')),\n",
    "    y = alt.Y('Month:N'),\n",
    "    color = alt.Color('CONSUMPTION:Q')\n",
    ")\n",
    "\n",
    "summer = alt.Chart(df[df['season'] == 'Summer']).mark_rect().encode(\n",
    "    x = alt.X('Time:N', sort =  alt.Sort(field = 'Time', op = 'count', order = 'ascending')),\n",
    "    y = alt.Y('Month:N'),\n",
    "    color = alt.Color('CONSUMPTION:Q')\n",
    ")\n",
    "\n",
    "fall = alt.Chart(df[df['season'] == 'Fall']).mark_rect().encode(\n",
    "    x = alt.X('Time:N', sort =  alt.Sort(field = 'Time', op = 'count', order = 'ascending')),\n",
    "    y = alt.Y('Month:N'),\n",
    "    color = alt.Color('CONSUMPTION:Q')\n",
    ")\n",
    "\n",
    "alt.vconcat(winter,spring,summer,fall).properties(background = '#F9F9F9', padding = 25)"
   ]
  },
  {
   "cell_type": "markdown",
   "id": "ba4728e7",
   "metadata": {},
   "source": [
    "- Як змінюється споживання електроенергії впродовж тижня?\n",
    "\n",
    "У даному я випадку я випішила використати bar chart, оскільки він компактний та контрастно показує різницю між кількома значенням. Також тут можна було би використати звичайний line chart"
   ]
  },
  {
   "cell_type": "code",
   "execution_count": null,
   "id": "cfa3591d",
   "metadata": {},
   "outputs": [],
   "source": [
    "alt.Chart(df).mark_bar().encode(\n",
    "    x = alt.X('week day:N', sort='ascending'),\n",
    "    y = alt.Y('CONSUMPTION:Q', aggregate = 'mean'),\n",
    "    color = alt.Color('week day:N'),\n",
    "    tooltip = alt.Tooltip('CONSUMPTION', aggregate = 'mean')\n",
    ").properties(width = 950, height = 500)"
   ]
  },
  {
   "cell_type": "code",
   "execution_count": null,
   "id": "a0d18ef4",
   "metadata": {},
   "outputs": [],
   "source": []
  }
 ],
 "metadata": {
  "kernelspec": {
   "display_name": "Python 3",
   "language": "python",
   "name": "python3"
  },
  "language_info": {
   "codemirror_mode": {
    "name": "ipython",
    "version": 3
   },
   "file_extension": ".py",
   "mimetype": "text/x-python",
   "name": "python",
   "nbconvert_exporter": "python",
   "pygments_lexer": "ipython3",
   "version": "3.6.13"
  }
 },
 "nbformat": 4,
 "nbformat_minor": 5
}
